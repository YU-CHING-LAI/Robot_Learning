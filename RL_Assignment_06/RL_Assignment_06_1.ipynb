{
  "cells": [
    {
      "cell_type": "markdown",
      "metadata": {
        "id": "ctYI3Gk4r892"
      },
      "source": [
        "### Robot Learning\n",
        "\n",
        "### Assignment 06\n",
        "\n",
        "Solutions are due on 27.05.2025 before the lecture."
      ]
    },
    {
      "cell_type": "markdown",
      "metadata": {
        "id": "TkyC45l4r893"
      },
      "source": [
        "The following problem is known as the *tiger problem* and goes back to Cassandra, Littman and Kaelbling ($1994$).\n",
        "\n",
        "A person faces two doors. Behind one, there is a tiger, behind the other, there is a reward of $+1000$. Initially, the person has no information behind which door the tiger or the reward are.\n",
        "\n",
        "The person can either listen or open one of the doors.\n",
        "\n",
        "When the door with the tiger behind it is opened, the person will be eaten, which has an associated cost of $–1600$.\n",
        "\n",
        "Listening costs $–20$. When listening, the person will hear a roaring noise that indicates the presence of a tiger, but only with $0.75$ probability will the person be able to localize the noise correctly. With $0.25$ probability, the noise will appear as if it came from the door hiding the reward."
      ]
    },
    {
      "cell_type": "markdown",
      "metadata": {
        "id": "zmH9kepYr894"
      },
      "source": [
        "## Task 6.1)\n",
        "\n",
        "Provide a formal model of the POMDP, in which you define the state, action, and measurement\n",
        "spaces, the cost function, and the associated probability functions.\n",
        "\n",
        "<div style=\"text-align: right; font-weight:bold\"> 4 Points </div>"
      ]
    },
    {
      "cell_type": "markdown",
      "metadata": {
        "id": "c1qglOuwr894"
      },
      "source": [
        "Please answer in this text cell. It is possible to create tables:\n",
        "\n",
        "|<i> $p(x_i | x_j , a_L)$ <i> | $j=0$ | $j=1$ |\n",
        "|------|------|------|\n",
        "|   $i=0$  | $1$| $0$ |\n",
        "|   $i=1$  | $0$| $1$ |\n",
        "\n",
        "## State x\n",
        "  \\begin{aligned}\n",
        "  x =\n",
        "  \\begin{cases}\n",
        "  0 & \\text{Tiger is behind the left door}\\\\\n",
        "  1 & \\text{Tiger is behind the right door}\n",
        "  \\end{cases}\n",
        "  \\end{aligned}\n",
        "\n",
        "## Action u\n",
        "\\begin{aligned}\n",
        "u =\n",
        "\\begin{cases}\n",
        "\\text{L = Listen}\\\\\n",
        "\\text{OL = Open left door}\\\\\n",
        "\\text{OR = Open right door}\n",
        "\\end{cases}\n",
        "\\end{aligned}\n",
        "\n",
        "## Measurement spaces z\n",
        "\\begin{aligned}\n",
        "z =\n",
        "\\begin{cases}\n",
        "\\text{L = Heard tiger on the left}\\\\\n",
        "\\text{R = Heard tiger on the right}\n",
        "\\end{cases}\n",
        "\\end{aligned}\n",
        "\n",
        "\n",
        "## Cost function\n",
        "\\begin{aligned}\n",
        "R(x,a)=\n",
        "\\begin{cases}\n",
        "-20, &\\text{if } a = \\text{L}\\\\\n",
        "+1000, &\\text{if correct door is opened}\\\\\n",
        "-1600, &\\text{if tiger door is opened}\n",
        "\\end{cases}\n",
        "\\end{aligned}\n",
        "## Associated probability functions\n",
        "### Observation model\n",
        "|<i> $p(z | x, u=L)$ <i> | $x=0$ | $x=1$ |\n",
        "|------|------|------|\n",
        "|$z=L$ |$0.75$|$0.25$|\n",
        "|$z=R$ |$0.25$|$0.75$|\n",
        "\n",
        "\n"
      ]
    },
    {
      "cell_type": "markdown",
      "metadata": {
        "id": "4_uw940kr894"
      },
      "source": [
        "## Task 6.2)\n",
        "\n",
        "What is the expected cumulative reward/cost of the open-loop action sequence: “Listen, listen,open door 1”? Explain your calculation!\n",
        "\n",
        "<div style=\"text-align: right; font-weight:bold\"> 2 Points </div>"
      ]
    },
    {
      "cell_type": "markdown",
      "metadata": {
        "id": "3CH3SXvwr895"
      },
      "source": [
        "Please answer in this text cell.\n",
        "### Initial belief\n",
        "Initially, the person has no information about both doors.\\\n",
        "Thus, the initial. belief is $b = [0.5, 0.5]$ \\\n",
        "### 1st Listen\n",
        "After a Listen, the distribution becomes $[0.75, 0.25]$ or $[0.25, 0.75]$\\\n",
        "The cost becomes -20.\n",
        "### 2nd Listen\n",
        "After this listen, the distribution becomes $[0.9, 0.1]$ or $[0.1, 0.9]$.\\\n",
        "The cost becomes -40.\n",
        "### Open door 1\n",
        "case 1: If $b = [0.9, 0.1]$\\\n",
        "$$\\text{Expected reward} = -1600 ⋅ 0.9 + 1000 ⋅ 0.1 = -1440 + 100 = -1340$$\\\n",
        "case 2: If $b = [0.1, 0.9]$\\\n",
        "$$\\text{Expected reward} = -1600 ⋅ 0.1 + 1000 ⋅ 0.9 = -160 + 900 = 740$$\n",
        "### Final Expected Reward\n",
        "$$\\text{Expected Value} = -40 + 0.5. ⋅ (-1340) + 0.5 ⋅ 740 = -40 + (-670)+370 = -340$$\n"
      ]
    },
    {
      "cell_type": "markdown",
      "metadata": {
        "id": "-qsimZKRr895"
      },
      "source": [
        "## Task 6.3)\n",
        "\n",
        "What is the expected cumulative reward/cost of the action sequence: “Listen, then open the door for which you did not hear a noise”? Again, explain your calculation!\n",
        "\n",
        "<div style=\"text-align: right; font-weight:bold\"> 4 Points </div>"
      ]
    },
    {
      "cell_type": "markdown",
      "metadata": {
        "id": "nUJUnmAkr895"
      },
      "source": [
        "Please answer in this text cell.\n",
        "The first step is same as 6.2. The distribution after listen is [0.75, 0.25] and it costs -20.\\\n",
        "$$\\text{Expected reward} = 1000⋅0.75 + (-1600)⋅0.25 - 20 = 330$$"
      ]
    },
    {
      "cell_type": "markdown",
      "metadata": {
        "id": "mXSsEEbor895"
      },
      "source": [
        "## Task 6.4)\n",
        "\n",
        "Perform the one-step backup operation of the POMDP. Plot the resulting piecewise linear value functions in a diagram, just like the ones presented in the lecture. Provide diagrams for all intermediate steps.\n",
        "\n",
        "Hint: This task is possible to solve on paper, but somewhat tedious. We recommend writing a script to solve it.\n",
        "\n",
        "<div style=\"text-align: right; font-weight:bold\"> 10 Points </div>"
      ]
    },
    {
      "cell_type": "code",
      "execution_count": null,
      "metadata": {
        "ExecuteTime": {
          "end_time": "2022-05-31T09:56:51.337654Z",
          "start_time": "2022-05-31T09:56:51.332741Z"
        },
        "id": "kk8bye-Wr896"
      },
      "outputs": [],
      "source": [
        "# Your code could go here..."
      ]
    },
    {
      "cell_type": "markdown",
      "metadata": {
        "id": "qAbYpu-Xr896"
      },
      "source": [
        "... or you could answer in this text cell."
      ]
    }
  ],
  "metadata": {
    "kernelspec": {
      "display_name": "Python 3 (ipykernel)",
      "language": "python",
      "name": "python3"
    },
    "language_info": {
      "codemirror_mode": {
        "name": "ipython",
        "version": 3
      },
      "file_extension": ".py",
      "mimetype": "text/x-python",
      "name": "python",
      "nbconvert_exporter": "python",
      "pygments_lexer": "ipython3",
      "version": "3.10.0"
    },
    "colab": {
      "provenance": []
    }
  },
  "nbformat": 4,
  "nbformat_minor": 0
}