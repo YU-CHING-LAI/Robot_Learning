{
  "cells": [
    {
      "cell_type": "markdown",
      "metadata": {
        "id": "IDeyr3H3SO0M"
      },
      "source": [
        "### Robot Learning\n",
        "\n",
        "### Assignment 5\n",
        "\n",
        "Solutions are due on 20.05.2025 before the lecture."
      ]
    },
    {
      "cell_type": "markdown",
      "metadata": {
        "id": "zYZ6txUVSO0N"
      },
      "source": [
        "### Introduction\n",
        "\n",
        "Please carefully read the following description of the card game *Blackjack*.\n",
        "\n",
        "The goal of Blackjack is to draw cards such that their values sum to as close to 21 as possible, but do not exceed 21. All cards 2 through 10 are assigned their number as the respective value, face cards like Jack, Queen and King yield a value of 10 points. The aces are special; they can count as either 1 or 11, depending on what is more beneficial. When using the ace as 11 points does not cause the total value of the hand to exceed 21, the ace is called 'usable'.\n",
        "\n",
        "The actions are to *stick*, which means to stop drawing cards and let the dealer play, or to *hit*, which means to draw another card to add to your hand.\n",
        "\n",
        "The opponent is a dealer with a fixed strategy; the dealer will always hit when the dealer's sum of card values is below 17 points. At or above 17 points, the dealer immediately sticks, irrespective of the player's card sum. Note that the dealer only starts playing once the player is finished, so when the player has selected to stick.\n",
        "\n",
        "The game starts by drawing two cards each to player and dealer from an infinite deck. The player can see the own cards, but only the first card which the dealer recieves, the other is face-down. If the player hits and exceeds 21 points, the player is considered *bust* and immediately loses the game. When the player decides to stick, the dealer will draw cards according to its strategy. If the dealer goes *bust* in the process, the player immediately wins the game. If not, the sum of the dealer's card values is compared to the sum of the player's card values. If they are equal, the game is considered a draw. If the player has a higher score, the player wins, and vice versa.\n",
        "\n",
        "In this RL setting, the rewards are +1 for winning, -1 for losing, and 0 for drawing and all intermediate moves. The state is a 3-tuple consisting of the players current hand sum, the value of the dealer's initial open card and a boolean describing whether the player currently has a usable ace or not. The action space consists of the integer $0$, which corresponds to *stick*, and the integer $1$, which corresponds to *hit*. Note that this corresponds exactly to the scenario described in *Example 5.1; Reinforcement Learning: An Introduction; Sutton and Barto*.\n",
        "\n",
        "To get started, please examine the following code cell, which loads the Blackjack environment from the utils file and plays an episode. The player is in this case the random agent. The environment is equivalent to the one provided in OpenAI Gym; we adapted the source code so that installing this python package is not necessary."
      ]
    },
    {
      "cell_type": "code",
      "execution_count": 3,
      "metadata": {
        "ExecuteTime": {
          "end_time": "2022-05-09T17:28:12.708438Z",
          "start_time": "2022-05-09T17:28:11.798886Z"
        },
        "scrolled": true,
        "colab": {
          "base_uri": "https://localhost:8080/"
        },
        "id": "QBlqicSRSO0O",
        "outputId": "91c222ab-3c31-4db3-99b0-5aa03f8c0aa6"
      },
      "outputs": [
        {
          "output_type": "stream",
          "name": "stdout",
          "text": [
            "Action Sequence: [1, 0]\n",
            "Obtained Rewards: [0.0, 1.0]\n",
            "State Transitions: [(17, 9, 1), (21, 9, 1), (21, 9, 1)]\n"
          ]
        }
      ],
      "source": [
        "import numpy as np\n",
        "from helpers.utils import BlackjackEnv\n",
        "\n",
        "np.random.seed(3)\n",
        "# create a Blackjack environment\n",
        "casino = BlackjackEnv()\n",
        "\n",
        "# do this before each new episode\n",
        "# state is 3-tuple: (player_current_sum, dealer_first_open_card, usable_ace_bool)\n",
        "# if dealer_first_open_card == 1, the dealer is holding an ace!\n",
        "starting_state = casino.reset()\n",
        "\n",
        "# create flag tracking whether the episode is over\n",
        "done = False\n",
        "\n",
        "# create lists to save the trajectory and the decisions of the agent\n",
        "actions, rewards, states = [], [], [starting_state]\n",
        "\n",
        "# simulate until the episode is over\n",
        "while not done:\n",
        "    #in each non-terminal state the agent can either stick (0) or hit (1)\n",
        "    possibleActions = casino.getAvailableActions()\n",
        "    # select one of them randomly\n",
        "    a = np.random.choice(possibleActions).item()\n",
        "    # save the action\n",
        "    actions.append(a)\n",
        "    # execute the action using the step function\n",
        "    # s is the new state\n",
        "    # done is the flag whether the episode is over\n",
        "    # the fourth output _ is a dict containing additional information on the environment\n",
        "    # it is empty here, but passing it is according to convention in OpenAI Gym environments\n",
        "    s, r, done, _ = casino.step(action = a)\n",
        "    # save the states\n",
        "    rewards.append(r)\n",
        "    states.append(s)\n",
        "\n",
        "print('Action Sequence:', actions)\n",
        "print('Obtained Rewards:', rewards)\n",
        "print('State Transitions:', states)"
      ]
    },
    {
      "cell_type": "markdown",
      "metadata": {
        "id": "r-4uf8YHSO0O"
      },
      "source": [
        "### Task 5.1)\n",
        "\n",
        "Implement Sarsa($\\lambda$) for Blackjack. Use an $\\varepsilon$-greedy exploration strategy with $\\varepsilon = 0.1$ and a time-varying scalar step-size of $\\alpha_t = \\frac{1}{N(s_t,a_t)+1}$, where $N(s, a)$ is the number of times the value of this state-action pair has been updated.\n",
        "\n",
        "Run the algorithm with parameter values $\\lambda \\in \\{0, 0.1, 0.2, \\dots, 1\\}$. Stop exploration and learning\n",
        "after $100000$ episodes and plot the average return for the next $10000$ episodes against $\\lambda$.\n",
        "\n",
        "Note that there is a loop over all state-actions pairs in the Sarsa($\\lambda$) algorithm. This loop is straightforward (but also necessary) to vectorize. Do not hesitate to contact your tutors if you need help with this step. Also, the random agent scores around $-0.4$ on average, and your trained agents should be able to outperform this weak baseline.\n",
        "\n",
        "<div style=\"text-align: right; font-weight:bold\"> 5 Points </div>"
      ]
    },
    {
      "cell_type": "code",
      "execution_count": null,
      "metadata": {
        "ExecuteTime": {
          "end_time": "2022-05-09T17:28:12.711333Z",
          "start_time": "2022-05-09T17:28:12.709741Z"
        },
        "id": "5j2QtXalSO0P"
      },
      "outputs": [],
      "source": [
        "# your code goes here"
      ]
    },
    {
      "cell_type": "markdown",
      "metadata": {
        "id": "R3PcaEj5SO0P"
      },
      "source": [
        "### Task 5.2)\n",
        "\n",
        "Use your experiment from task 5.1) to select your favorite value for $\\lambda$. Learn $Q$ using the Sarsa($\\lambda$) algorithm for $1$ million episodes. After training, stop exploration and learning and report the average return for the next $10000$ episodes. Finally, visualize the resulting policy by using the helper function *plotPolicy(Q)*.\n",
        "\n",
        "<div style=\"text-align: right; font-weight:bold\"> 2 Points </div>"
      ]
    },
    {
      "cell_type": "code",
      "execution_count": 4,
      "metadata": {
        "ExecuteTime": {
          "end_time": "2022-05-09T17:28:12.713433Z",
          "start_time": "2022-05-09T17:28:12.712034Z"
        },
        "id": "qQ02I7fMSO0P"
      },
      "outputs": [],
      "source": [
        "from helpers.utils import plotPolicy\n",
        "# your code goes here"
      ]
    },
    {
      "cell_type": "markdown",
      "metadata": {
        "id": "YySKiAahSO0P"
      },
      "source": [
        "### Task 5.3)\n",
        "\n",
        "Now consider a simple coarse coding value function approximator that is based on a binary feature vector $\\phi_{s, a} \\in \\mathbb{R}^{128}$ with $8 \\times 4 \\times 2 \\times 2 = 128$ features. Each binary feature has a value of 1 iff $(s, a)$ lies within the cuboid of state-action-space corresponding to that feature. The cuboids have the following overlapping intervals:\n",
        "\n",
        "$player(s) = \\{[4, 7], [6, 9], [8, 11], [10, 13], [12, 15], [14, 17], [18, 20], [19, 21]\\}$\n",
        "\n",
        "$dealer(s) = \\{[1,4], [3, 6], [5, 8], [7, 10]\\}$\n",
        "\n",
        "$usable\\_ace(s) = \\{0,1\\}$\n",
        "\n",
        "$a = \\{0, 1\\}$\n",
        "\n",
        "where\n",
        "\n",
        "* player(s) is the sum of the player’s cards (4–21) in state s\n",
        "* dealer(s) is the value of the dealer’s first card (1–10) in state s\n",
        "\n",
        "Implement a function $phi(s,a)$ which takes a state-action pair $(s,a)$ and maps it to a vector $\\phi_{s,a}$ as described above.\n",
        "\n",
        "<div style=\"text-align: right; font-weight:bold\"> 3 Points </div>"
      ]
    },
    {
      "cell_type": "code",
      "execution_count": null,
      "metadata": {
        "ExecuteTime": {
          "end_time": "2022-05-09T17:28:12.716010Z",
          "start_time": "2022-05-09T17:28:12.714737Z"
        },
        "id": "Jk0lGy9LSO0P"
      },
      "outputs": [],
      "source": [
        "# your code goes here"
      ]
    },
    {
      "cell_type": "markdown",
      "metadata": {
        "id": "uKns1wa5SO0P"
      },
      "source": [
        "### Task 5.4)\n",
        "\n",
        "Conduct one more Sarsa($\\lambda$) experiment, but this time use a linear value function approximation $Q(s,a) = \\theta \\cdot \\phi_{s,a}$. Use a constant exploration of $\\varepsilon=0.1$, a constant step-size of $\\alpha=0.1$ and your favorite $\\lambda$.\n",
        "\n",
        "Stop exploration and learning after $200000$ episodes and report the average return for the next $10000$ episodes.\n",
        "\n",
        "To clarify, $\\theta$ is a row vector which your algorithm learns instead of $Q(s,a)$. The row vector times column vector product $Q(s,a) = \\theta \\cdot \\phi_{s,a}$ can also be understood as $Q(s,a) = \\sum_{i=0}^{127} \\theta(i)\\phi_{s,a}(i)$.\n",
        "\n",
        "<div style=\"text-align: right; font-weight:bold\"> 4 Points </div>"
      ]
    },
    {
      "cell_type": "code",
      "execution_count": 5,
      "metadata": {
        "ExecuteTime": {
          "end_time": "2022-05-09T17:28:12.718550Z",
          "start_time": "2022-05-09T17:28:12.716829Z"
        },
        "colab": {
          "base_uri": "https://localhost:8080/"
        },
        "id": "kWVpQSxmSO0P",
        "outputId": "9165043a-083d-4840-e17e-b5f7c0d45c65"
      },
      "outputs": [
        {
          "output_type": "stream",
          "name": "stdout",
          "text": [
            "Average Return: -0.0486\n"
          ]
        }
      ],
      "source": [
        "from concurrent.futures import thread\n",
        "# your code goes here\n",
        "from collections import defaultdict\n",
        "# initialize\n",
        "epsilon = 0.1\n",
        "alpha = 0.1\n",
        "gamma = 1.0\n",
        "lmbda = 0.6 #[0, 0.1, 0.2, 0.3, 0.4, 0.5, 0.6, 0.7, 0.8, 0.9, 1]\n",
        "\n",
        "#\n",
        "def phi(state, action):\n",
        "  player_sum, dealer_card, usable_ace = state\n",
        "  index = (\n",
        "      (player_sum - 12) * 10 * 2 * 2 +\n",
        "      (dealer_card - 1) * 2 * 2+\n",
        "      int(usable_ace) * 2 +\n",
        "      action\n",
        "  )\n",
        "  feature_vector = np.zeros(400)\n",
        "  if 0 <= index < 400:\n",
        "    feature_vector[index] = 1\n",
        "  return feature_vector\n",
        "\n",
        "def epsilon_greedy(state, theta):\n",
        "  if np.random.rand() < epsilon:\n",
        "    return np.random.choice([0, 1])\n",
        "  q0 = np.dot(theta, phi(state, 0))\n",
        "  q1 = np.dot(theta, phi(state, 1))\n",
        "  return 0 if q0 > q1 else 1\n",
        "\n",
        "# Train SARSA(lambda)\n",
        "def train_SARSA(lmbda):\n",
        "  theta = np.zeros(400)\n",
        "  for episode in range(200000):\n",
        "    # initialize\n",
        "    state = casino.reset()\n",
        "    action = epsilon_greedy(state, theta)\n",
        "    e_trace = np.zeros_like(theta)\n",
        "\n",
        "    done = False\n",
        "    while not done:\n",
        "      next_state, reward, done, _ = casino.step(action)\n",
        "      next_action = epsilon_greedy(next_state, theta)\n",
        "\n",
        "      phi_sa = phi(state, action)\n",
        "      q_sa = np.dot(theta, phi_sa)\n",
        "\n",
        "      if not done:\n",
        "        phi_next_sa = phi(next_state, next_action)\n",
        "        q_next_sa = np.dot(theta, phi_next_sa)\n",
        "        delta = reward + gamma * q_next_sa - q_sa\n",
        "      else:\n",
        "        delta = reward - q_sa\n",
        "\n",
        "      # eligibility traces\n",
        "      e_trace = lmbda * gamma * e_trace + phi_sa\n",
        "\n",
        "      # Upload weights\n",
        "      theta += alpha * delta * e_trace\n",
        "\n",
        "      state = next_state\n",
        "      action = next_action\n",
        "\n",
        "  return theta\n",
        "\n",
        "\n",
        "# greedy with epsilon = 0\n",
        "def greedy_action(state, theta):\n",
        "  q0 = np.dot(theta, phi(state, 0))\n",
        "  q1 = np.dot(theta, phi(state, 1))\n",
        "  return 0 if q0 > q1 else 1\n",
        "\n",
        "# Evaluate policy with trained theta\n",
        "def evaluate_policy(theta, episodes = 10000):\n",
        "  returns = []\n",
        "  for _ in range(episodes):\n",
        "    state = casino.reset()\n",
        "    done = False\n",
        "    episode_return = 0\n",
        "    while not done:\n",
        "      action = greedy_action(state, theta)\n",
        "      next_state, reward, done, _ = casino.step(action)\n",
        "      episode_return += reward\n",
        "      state = next_state\n",
        "    returns.append(episode_return)\n",
        "  return np.mean(returns)\n",
        "\n",
        "theta = train_SARSA(lmbda)\n",
        "avg_returns = evaluate_policy(theta)\n",
        "print(\"Average Return:\", avg_returns)"
      ]
    },
    {
      "cell_type": "markdown",
      "metadata": {
        "id": "-zwEarLoSO0P"
      },
      "source": [
        "### Task 5.5)\n",
        "\n",
        "Implement the actor-critic version of TD(0) control. You can proceed as described on slide 7 in lecture 05. However, please adjust the update of the preferences $p(s,a)$ to\n",
        "\n",
        "$$p[s_t][a_t] \\leftarrow p[s_t][a_t] + \\beta \\delta_t [1 - \\pi(s,a_t)]$$\n",
        "\n",
        "This represents the learning rule for the actor. For the critic, you can update state values $V(s_t)$ according to\n",
        "\n",
        "$$V(s_t) \\leftarrow V(s_t) + \\alpha \\delta_t$$\n",
        "\n",
        "after updating the actor for each step of the episode. Use $\\alpha = \\beta = 0.1$ and $\\gamma = 0.99$ and learn for 1 million episodes. Report the mean return of the final $10000$ episodes.\n",
        "\n",
        "Then, visualize the policy induced by $p$. It is possible to use *plotPolicy($\\pi$)* for this purpose.\n",
        "\n",
        "<div style=\"text-align: right; font-weight:bold\"> 6 Points </div>"
      ]
    },
    {
      "cell_type": "code",
      "execution_count": 11,
      "metadata": {
        "ExecuteTime": {
          "end_time": "2022-05-09T17:28:12.723164Z",
          "start_time": "2022-05-09T17:28:12.720288Z"
        },
        "colab": {
          "base_uri": "https://localhost:8080/"
        },
        "id": "zNqtFyD6SO0P",
        "outputId": "406bfaf0-fe84-4e87-f1a1-5808f24bd0a1"
      },
      "outputs": [
        {
          "output_type": "stream",
          "name": "stdout",
          "text": [
            "Average Return: -0.2598\n"
          ]
        }
      ],
      "source": [
        "# your code goes here\n",
        "np.bool8 = np.bool_\n",
        "import gym\n",
        "\n",
        "alpha = 0.1\n",
        "beta = 0.1\n",
        "gamma = 0.99\n",
        "\n",
        "# Initialize\n",
        "V = defaultdict(float)\n",
        "p = defaultdict(lambda: np.zeros(2)) # only 2 actions\n",
        "\n",
        "def get_policy(state):\n",
        "  prefs = p[state]\n",
        "  max_pref = np.max(prefs)\n",
        "  exp_prefs = np.exp(prefs - max_pref)\n",
        "  return exp_prefs / np.sum(exp_prefs)\n",
        "\n",
        "# sample actions from π\n",
        "def sample_action(policy):\n",
        "  return np.random.choice(len(policy), p = policy)\n",
        "\n",
        "env = gym.make(\"Blackjack-v1\", sab = True)\n",
        "\n",
        "returns = []\n",
        "\n",
        "for episode in range(1000000):\n",
        "  state, _, _ = env.reset()\n",
        "  done = False\n",
        "  R = 0 # Initalize total return\n",
        "\n",
        "  while not done:\n",
        "    policy = get_policy(state)\n",
        "    action = sample_action(policy)\n",
        "    next_state, reward, done, _ = env.step(action)\n",
        "\n",
        "    # TD error\n",
        "    delta = reward + gamma * V[next_state] - V[state]\n",
        "\n",
        "    # critic update\n",
        "    V[state] += alpha * delta\n",
        "\n",
        "    # actor update\n",
        "    for a in [0, 1]:\n",
        "      if a == action:\n",
        "        p[state][a] += beta * delta * (1 - policy[a])\n",
        "      else:\n",
        "        p[state][a] -= beta * delta * policy[a]\n",
        "\n",
        "    state = next_state\n",
        "    R += reward\n",
        "\n",
        "  if episode >= 990000:\n",
        "    returns.append(R)\n",
        "\n",
        "print(\"Average Return:\", np.mean(returns))"
      ]
    },
    {
      "cell_type": "code",
      "source": [
        "for k in list(final_policy.keys())[:10]:\n",
        "    print(k, final_policy[k])\n"
      ],
      "metadata": {
        "colab": {
          "base_uri": "https://localhost:8080/"
        },
        "id": "xgMK5kceOzbD",
        "outputId": "2e89ea99-a302-4b8f-d78f-4e304f13ccc6"
      },
      "execution_count": 20,
      "outputs": [
        {
          "output_type": "stream",
          "name": "stdout",
          "text": [
            "16 1\n",
            "14 1\n",
            "20 0\n",
            "13 1\n",
            "(16, 2, False) 1\n",
            "17 1\n",
            "15 1\n",
            "21 1\n",
            "(13, 10, False) 1\n",
            "(17, 3, False) 1\n"
          ]
        }
      ]
    },
    {
      "cell_type": "code",
      "source": [
        "import matplotlib.pyplot as plt\n",
        "\n",
        "def get_final_policy(prefs):\n",
        "  pi = {}\n",
        "  for state, pref in prefs.items():\n",
        "    if not (isinstance(state, tuple) and len(state) == 3):\n",
        "      continue\n",
        "    pi[state] = np.argmax(pref)\n",
        "  return pi\n",
        "\n",
        "def plot_policy(policy, title = \"Policy\"):\n",
        "  usable_ace = np.zeros((10,10))\n",
        "  no_usable_ace = np.zeros((10, 10))\n",
        "\n",
        "  for state, action in policy.items():\n",
        "    if len(state) != 3:\n",
        "      continue\n",
        "    player_sum, dealer_card, ace = state\n",
        "    row = player_sum - 12\n",
        "    col = dealer_card - 1\n",
        "    if 0 <= row < 10 and 0 <= col <10:\n",
        "      if ace:\n",
        "        usable_ace[row, col] = action\n",
        "      else:\n",
        "        no_usable_ace[row, col] = action\n",
        "\n",
        "  fig, axs = plt.subplots(1, 2, figsize = (12, 5))\n",
        "  for ax, data, title_suffix in zip(\n",
        "    axs, [usable_ace, no_usable_ace], [\"Usable Ace\", \"No Usable Ace\"]\n",
        "  ):\n",
        "    im = ax.imshow(data, origin = \"lower\", cmap = \"cool\", extent = [1, 10, 12, 21])\n",
        "    ax.set_xlabel(\"Dealer Showing\")\n",
        "    ax.set_ylabel(\"Player Sum\")\n",
        "    ax.set_title(f\"{title} {title_suffix}\")\n",
        "  plt.tight_layout()\n",
        "  plt.show()\n",
        "\n",
        "final_policy = get_final_policy(p)\n",
        "plot_policy(final_policy)"
      ],
      "metadata": {
        "colab": {
          "base_uri": "https://localhost:8080/",
          "height": 327
        },
        "id": "IbloBkrzMtF1",
        "outputId": "fd8dd82e-6c0b-449c-d9ec-88f492ff2b97"
      },
      "execution_count": 23,
      "outputs": [
        {
          "output_type": "display_data",
          "data": {
            "text/plain": [
              "<Figure size 1200x500 with 2 Axes>"
            ],
            "image/png": "[encoded data removed]"
          },
          "metadata": {}
        }
      ]
    }
  ],
  "metadata": {
    "kernelspec": {
      "display_name": "Python 3 (ipykernel)",
      "language": "python",
      "name": "python3"
    },
    "language_info": {
      "codemirror_mode": {
        "name": "ipython",
        "version": 3
      },
      "file_extension": ".py",
      "mimetype": "text/x-python",
      "name": "python",
      "nbconvert_exporter": "python",
      "pygments_lexer": "ipython3",
      "version": "3.10.0"
    },
    "colab": {
      "provenance": []
    }
  },
  "nbformat": 4,
  "nbformat_minor": 0
}