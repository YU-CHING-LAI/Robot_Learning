{
  "cells": [
    {
      "cell_type": "markdown",
      "metadata": {
        "id": "view-in-github",
        "colab_type": "text"
      },
      "source": [
        "<a href=\"https://colab.research.google.com/github/JanNogga/rl_ss25/blob/main/RL_Assignment_07.ipynb\" target=\"_parent\"><img src=\"https://colab.research.google.com/assets/colab-badge.svg\" alt=\"Open In Colab\"/></a>"
      ]
    },
    {
      "cell_type": "markdown",
      "metadata": {
        "id": "42lCQv_4Ztdu"
      },
      "source": [
        "## Robot Learning\n",
        "\n",
        "## Assignment 7\n",
        "\n",
        "Solutions are due on 03.06.2025 before the lecture."
      ]
    },
    {
      "cell_type": "markdown",
      "metadata": {
        "id": "h82ySECHbyST"
      },
      "source": [
        "### Introduction\n",
        "\n",
        "On this assignment sheet, we will use an environment from [OpenAi Gym](https://github.com/openai/gym). The setup requires some further packages. Since this installation is not trivial, and we could only test it in our setup, we strongly recommend that you execute the cells in this notebook in [Google Colab](https://research.google.com/colaboratory/). You should find a button which opens this file directly in Colab at the top of this notebook. If not, you can simply import the .ipynb manually.\n",
        "\n",
        "If you have started your Colab session and are ready to proceed, uncomment the three lines in the code cell below. They will install everything required to simulate the Gym environment. If prompted to restart your runtime, do so, but you don't have to repeat the installation unless you delete your runtime.\n",
        "\n",
        "**Warning: This is unlikely to work on your own computer, and might even mess up your system! Please only use the following lines in Colab. If you insist on using your own machine, please refer to installation instructions for Gym, torch and the box2d environments for your system.**"
      ]
    },
    {
      "cell_type": "code",
      "execution_count": null,
      "metadata": {
        "id": "ILxohiv0bxN5"
      },
      "outputs": [],
      "source": [
        "#!apt-get -qq install xvfb x11-utils &> /dev/null\n",
        "#!pip install ufal.pybox2d --quiet &> /dev/null\n",
        "#!pip install pyvirtualdisplay moviepy pyglet PyOpenGL-accelerate --quiet &> /dev/null\n",
        "#!pip install numpy==1.23.5 matplotlib==3.7.0"
      ]
    },
    {
      "cell_type": "markdown",
      "metadata": {
        "id": "-Et0INA7elG1"
      },
      "source": [
        "The following cell imports packages required for the task."
      ]
    },
    {
      "cell_type": "code",
      "execution_count": null,
      "metadata": {
        "id": "BCzDT-u_CqE1"
      },
      "outputs": [],
      "source": [
        "import numpy as np\n",
        "import gym\n",
        "import matplotlib.pyplot as plt\n",
        "from pyvirtualdisplay import Display\n",
        "from moviepy.editor import VideoClip\n",
        "from moviepy.video.io.bindings import mplfig_to_npimage\n",
        "import torch\n",
        "import torch.nn as nn\n",
        "from tqdm import tqdm\n",
        "import random\n",
        "import warnings\n",
        "warnings.filterwarnings(\"ignore\", category=DeprecationWarning)"
      ]
    },
    {
      "cell_type": "markdown",
      "metadata": {
        "id": "_-NDX630e0j0"
      },
      "source": [
        "## Task 7.1)\n",
        "\n",
        "Your agent is in state $s_t$ and has the $Q$-values $Q(s_t,a) = [Q(s_t,a_0), Q(s_t,a_1), Q(s_t,a_2), Q(s_t,a_3)] = [5, 7, 3, 9]$. If the agent samples its action according to a probabilistic policy $\\pi(s_t,a)$ which is created by softmax action selection from $Q(s_t,a)$, then what is the probability $Pr(a_3 | s_t)$ of taking action $a_3$ in state $s_t$?\n",
        "\n",
        "<div style=\"text-align: right; font-weight:bold\"> 3 Points </div>"
      ]
    },
    {
      "cell_type": "markdown",
      "metadata": {
        "id": "WqWwhf3Aiw6m"
      },
      "source": [
        "Please answer in this text cell."
      ]
    },
    {
      "cell_type": "markdown",
      "metadata": {
        "id": "-ZKGw1p5oPGl"
      },
      "source": [
        "## Task 7.2)\n",
        "\n",
        "In this task, we will combine an actor-critic method like on the previous sheet with a policy gradient algorithm to control an agent in a challenging environment: the Lunar Lander."
      ]
    },
    {
      "cell_type": "code",
      "execution_count": 2,
      "metadata": {
        "colab": {
          "base_uri": "https://localhost:8080/"
        },
        "id": "_eQglYE9xZQG",
        "outputId": "f4f03507-a787-4843-e27d-4fad606e5332"
      },
      "outputs": [
        {
          "output_type": "execute_result",
          "data": {
            "text/plain": [
              "<pyvirtualdisplay.display.Display at 0x783850338650>"
            ]
          },
          "metadata": {},
          "execution_count": 2
        }
      ],
      "source": [
        "# set up showing animations from the environment in Colab.\n",
        "Display(visible=False).start()"
      ]
    },
    {
      "cell_type": "markdown",
      "metadata": {
        "id": "UcylDxhAo3vh"
      },
      "source": [
        "Examine the code cell below. It has two distinct purposes:\n",
        "\n",
        "* Showcase the agent-environment interaction for LunarLander-v2\n",
        "\n",
        "* Show how you can capture frames from this environment to animate an episode afterwards.\n",
        "\n",
        "Note that for training an agent in this environment, it is advisable to omit all code corresponding to the rendering. You can seperately render an episode of your agent's play afterwards.\n"
      ]
    },
    {
      "cell_type": "code",
      "execution_count": 3,
      "metadata": {
        "colab": {
          "base_uri": "https://localhost:8080/"
        },
        "id": "lBjPAxrqb1GO",
        "outputId": "74abb5d5-53a4-43c3-e538-ba1faae841dc"
      },
      "outputs": [
        {
          "output_type": "stream",
          "name": "stdout",
          "text": [
            "Number of frames: 101\n"
          ]
        }
      ],
      "source": [
        "# Name of the environment, if you are having problems you can switch to 'CartPole-v1', which is easier to solve.\n",
        "ENV_NAME = 'LunarLander-v2' #'CartPole-v1'\n",
        "# Dimension of the LunarLander state space. For 'CartPole-v1', use 4 instead\n",
        "ENV_STATE_DIM =  8 # 4\n",
        "# Lunar Lander has 4 discrete actions: [Do Nothing, Fire Left Booster, Fire Main Engine, Fire Right Booster], 'CartPole-v1' has 2\n",
        "ENV_ACTION_DIM = 4 # 2\n",
        "# If the agent reaches this score the task is seen as solved\n",
        "SCORE_TO_SOLVE = 200 # 195\n",
        "MAX_STEPS = None # 500\n",
        "# Create the environment\n",
        "env = gym.make(ENV_NAME)\n",
        "# Reset the environment\n",
        "state = env.reset() # state = [x, y, dx, dy, theta, dtheta, leg1_contact, leg2_contact]\n",
        "# Track whether the episode is over\n",
        "done = False\n",
        "# List to append the frames produced by the environment renderer\n",
        "frames = []\n",
        "while not done:\n",
        "  # Render current situation and append to frames\n",
        "  frames.append(env.render('rgb_array'))\n",
        "  # Select a random action\n",
        "  action = env.action_space.sample()\n",
        "  # Execute this action\n",
        "  state, reward, done, info = env.step(action)\n",
        "# Print the number of frames\n",
        "print('Number of frames:', len(frames))\n",
        "# Prevent the renderer from showing artifacts\n",
        "plt.close()"
      ]
    },
    {
      "cell_type": "code",
      "execution_count": 4,
      "metadata": {
        "id": "DoKAmR3onpP1"
      },
      "outputs": [],
      "source": [
        "# Helper function to animate a list of frames as produced above\n",
        "def visualize_trajectory(frames, fps=50):\n",
        "  duration = int(len(frames) // fps + 1)\n",
        "  fig, ax = plt.subplots()\n",
        "  def make_frame(t, ind_max=len(frames)):\n",
        "      ax.clear()\n",
        "      ax.imshow(frames[min((int(fps*t),ind_max-1))])\n",
        "      return mplfig_to_npimage(fig)\n",
        "  plt.close()\n",
        "  return VideoClip(make_frame, duration=duration)"
      ]
    },
    {
      "cell_type": "code",
      "execution_count": 5,
      "metadata": {
        "colab": {
          "base_uri": "https://localhost:8080/",
          "height": 589
        },
        "id": "ISZEEpkZp04s",
        "outputId": "78c4d0cb-0023-4fc1-fb9e-e0994123b79c"
      },
      "outputs": [
        {
          "output_type": "stream",
          "name": "stdout",
          "text": [
            "Moviepy - Building video __temp__.mp4.\n",
            "Moviepy - Writing video __temp__.mp4\n",
            "\n"
          ]
        },
        {
          "output_type": "stream",
          "name": "stderr",
          "text": [
            "                                                              "
          ]
        },
        {
          "output_type": "stream",
          "name": "stdout",
          "text": [
            "Moviepy - Done !\n",
            "Moviepy - video ready __temp__.mp4\n"
          ]
        },
        {
          "output_type": "stream",
          "name": "stderr",
          "text": [
            "\r"
          ]
        },
        {
          "output_type": "execute_result",
          "data": {
            "text/plain": [
              "<moviepy.video.io.html_tools.HTML2 object>"
            ],
            "text/html": [
              "<div align=middle><video loop='True' autoplay='True'src='data:video/mp4;base64,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' controls>Sorry, seems like your browser doesn't support HTML5 audio/video</video></div>"
            ]
          },
          "metadata": {},
          "execution_count": 5
        }
      ],
      "source": [
        "# Get the animation from the frames of the played episode\n",
        "animation = visualize_trajectory(frames)\n",
        "# Show the animation\n",
        "animation.ipython_display(fps=50, loop=True, autoplay=True)"
      ]
    },
    {
      "cell_type": "markdown",
      "metadata": {
        "id": "kP6tJzJvrK2b"
      },
      "source": [
        "Probably, the random agent will destroy itself instead of landing between the two flags. We would like you to improve upon this. Below, you are given a neural net with learnable weights $\\theta$ which takes an environment state $s_t$ as input and can output either a state value $V_{\\theta}(s_t)$ or a probability distribution over the actions $\\pi_{\\theta}(s_t,a)$."
      ]
    },
    {
      "cell_type": "code",
      "execution_count": 6,
      "metadata": {
        "colab": {
          "base_uri": "https://localhost:8080/"
        },
        "id": "ipdbrnfet58W",
        "outputId": "7af0b63b-17ff-42e5-c508-a3e7c82e3f07"
      },
      "outputs": [
        {
          "output_type": "stream",
          "name": "stdout",
          "text": [
            "Dummy Input: [0.37 0.93 0.55 0.79 0.26 0.75 0.89 0.82]\n",
            "Actor output: tensor([0.2514, 0.2113, 0.2805, 0.2568], grad_fn=<SqueezeBackward0>)\n",
            "Critic output: tensor(0.0911, grad_fn=<SqueezeBackward0>)\n"
          ]
        }
      ],
      "source": [
        "# If you feel like it, you can, but you do not need to adapt this\n",
        "class DualNet(nn.Module):\n",
        "    def __init__(self, state_dim=ENV_STATE_DIM, action_dim=ENV_ACTION_DIM, hidden_layer_dim=42):\n",
        "        super(DualNet, self).__init__()\n",
        "        # Create some layers to encode the input state\n",
        "        self.layers = [nn.Linear(state_dim, hidden_layer_dim),\n",
        "                       nn.LeakyReLU()]\n",
        "        # Combine these layers into a net\n",
        "        self.net = nn.Sequential(*self.layers)\n",
        "        # Critic output layers to estimate V from the state encoding\n",
        "        self.critic = nn.Sequential(*[nn.Linear(hidden_layer_dim,1)])\n",
        "        # Actor output layers to estimate pi from the state encoding\n",
        "        self.actor = nn.Sequential(*[nn.Linear(hidden_layer_dim,action_dim),\n",
        "                                        nn.Softmax(dim=-1)])\n",
        "    def forward(self, s, mode):\n",
        "        # Convert input state to tensor\n",
        "        device = next(self.net.parameters()).device\n",
        "        x = torch.tensor(s).float().view(1,-1).to(device)\n",
        "        # Encode state\n",
        "        x = self.net(x)\n",
        "        if mode == 'actor':\n",
        "          # Return probability distribution over actions\n",
        "          x = self.actor(x)\n",
        "        else:\n",
        "          # Return estimate of state value\n",
        "          x = self.critic(x)\n",
        "        return x.squeeze()\n",
        "\n",
        "# Example usage:\n",
        "# Create instance of the DualNet class\n",
        "test_net = DualNet()\n",
        "# Create a dummy state, round just for pretty printing\n",
        "test_input = np.around(np.random.rand(ENV_STATE_DIM),2)\n",
        "# Get the actor output\n",
        "actor_out = test_net(test_input, mode='actor')\n",
        "# Get the critic output\n",
        "critic_out = test_net(test_input, mode='critic')\n",
        "print('Dummy Input:', test_input)\n",
        "print('Actor output:', actor_out)\n",
        "print('Critic output:', critic_out)"
      ]
    },
    {
      "cell_type": "markdown",
      "metadata": {
        "id": "Xbg1wpQStXHL"
      },
      "source": [
        "Now to the task: Play episodes according to the following scheme:\n",
        "\n",
        "* For each visited state $s_t$, store the output of the critic $V_\\theta(s_t)$ in a list.\n",
        "\n",
        "* Select an action $a_t$ by sampling from the distribution $\\pi_{\\theta}(s_t,a)$ output by the actor. In a list, store the log prob of the action: $l_t = log(\\pi_{\\theta}[s_t,a_t])$.\n",
        "\n",
        "* Execute the action and observe the reward $r_{t+1}$ provided by the environment.\n",
        "\n",
        "After each episode, use the stored rewards to calculate the Returns $R_t$ following each state $s_t$ using the discount factor $\\gamma$. Next, calculate for each $t$\n",
        "\n",
        "$$\\delta_t = R_t - V_{\\theta}(s_t)$$\n",
        "\n",
        "Then, calculate the loss of the critic as\n",
        "\n",
        "$$L_{critic} = 0.5 \\sum_t \\delta_t^2$$\n",
        "\n",
        "and the loss of the actor using the log probs as\n",
        "\n",
        "$$L_{actor} = \\sum_t - l_t  \\delta_t$$\n",
        "\n",
        "and finally the total loss\n",
        "\n",
        "$$L = L_{critic} + L_{actor}$$\n",
        "\n",
        "Now, update the parameters $\\theta$ using\n",
        "\n",
        "$$\\theta \\leftarrow \\theta + \\alpha \\nabla_{\\theta}L$$\n",
        "\n",
        "The Lunar Lander problem is considered solved when the agent achieves an average return of 200 over 100 episodes. Solve the problem, or play around 3000 episodes as described above and then report the average return of the final 100 episodes played. This means that you are welcome to preemptively stop training if the average return is sufficient. Then, play one more episode and animate it like in the example above. Use $\\gamma = 0.99$ in your experiments. Save your final animation and place it into your sciebo folder along with this notebook. We recommend starting with a learning rate of $\\alpha = 0.02$, but please note that this parameter might be sensitive to the specifics of your implementation. Solving the environment should not take longer than an hour, but we have seen implementations that completed the task in as little as 10 minutes.\n",
        "\n",
        "### Hints:\n",
        "\n",
        "Following tips might help you complete this task:\n",
        "\n",
        "* You might need to convert your return $R_t$ to the correct datatype:\n",
        "\n",
        "$$\\delta_t = torch.tensor(R_t) - V_{\\theta}(s_t)$$\n",
        "\n",
        "* If you want to use numpy to sample from $\\pi_{\\theta}(s_t,a)$, you can get a numpy array by calling\n",
        "\n",
        "$$\\pi_{\\theta}(s_t,a).detach().numpy()$$\n",
        "\n",
        "* When you calculate the log probs $l_t$, preserve the torch gradient graph by using the torch function\n",
        "\n",
        "$$l_t = torch.log(\\pi_{\\theta}[s_t,a_t])$$\n",
        "\n",
        "* When you calculate $L_{actor}$, use $\\delta_t.item()$ to ensure that the actor's loss does not directly influence the critic's gradients.\n",
        "\n",
        "* It might be easier to solve the task for the Cart-Pole environment first, just change ENV_NAME, ENV_STATE_DIM and ENV_ACTION_DIM in one of the previous code blocks.\n",
        "\n",
        "* Standardizing the Returns (zero mean and std 1) before calculating $\\delta_t$ can boost performance.\n",
        "\n",
        "* Below you are already given a rough structure for the algorithm. If you stick to it, torch will compute and apply $\\nabla_{\\theta}L$ for you!\n",
        "\n",
        "<div style=\"text-align: right; font-weight:bold\"> 10 +  3 (animation) Points </div>"
      ]
    },
    {
      "cell_type": "code",
      "execution_count": null,
      "metadata": {
        "id": "IOXy4HukVgGf"
      },
      "outputs": [],
      "source": [
        "# Complete this code or write your own!\n",
        "# Create the environment\n",
        "env = gym.make(ENV_NAME)\n",
        "# Get the combined actor and critic model\n",
        "net = DualNet()\n",
        "# if using a gpu runtime DualNet().cuda() moves the policy to GPU\n",
        "# in this case, use .cpu() on a tensor before converting to numpy\n",
        "# Number of episodes to play, maybe use fewer at first\n",
        "num_iter = 3000\n",
        "# Learning rate for the parameter updates\n",
        "alpha = 2e-2\n",
        "# Discount factor\n",
        "gamma = 0.99\n",
        "# The optimizer will do the gradient updates for you\n",
        "# It needs the trainable parameters and a learning rate\n",
        "optimizer = torch.optim.RMSprop(net.parameters(), lr=alpha)\n",
        "# feel free to experiment with other torch optimizers\n",
        "\n",
        "\n",
        "# This progress_bar is useful to know how far along the training is\n",
        "progress_bar = tqdm(range(num_iter), total=num_iter, position=0, leave=True)\n",
        "# For each episode (episode can be used like an int)\n",
        "for episode in progress_bar:\n",
        "    # Reset the accumulated gradients of the model parameters\n",
        "    optimizer.zero_grad()\n",
        "    # Reset the environment and observe the starting state\n",
        "    s = env.reset()\n",
        "    done = 0\n",
        "    # Collect the following terms during the episode\n",
        "    rewards = []\n",
        "    state_vals = []\n",
        "    log_probs = []\n",
        "    while not done:\n",
        "        # During each Episode:\n",
        "        # Evaluate the critic for s, store it\n",
        "\n",
        "        # Evaluate the actor for s\n",
        "\n",
        "        # Sample a from the distribution given by the actor\n",
        "\n",
        "        # Store log_prob of a\n",
        "\n",
        "        # Execute action a, observe next state, reward and done\n",
        "        s, r, done, _ = env.step(a)\n",
        "        # Store the reward\n",
        "\n",
        "\n",
        "    # After each episode is done\n",
        "    # Calculate the Returns from the episode. Use rewards and gamma\n",
        "\n",
        "    # You might want to standardize the Returns\n",
        "\n",
        "    # Calculate delta_t, L_actor, L_critic\n",
        "\n",
        "    # Calculate the loss L\n",
        "    L = L_critic + L_actor\n",
        "    # Set the gradients with respect to the parameters\n",
        "    L.backward()\n",
        "    # Update the parameters based on the gradients\n",
        "    optimizer.step()\n",
        "    # If you want your progress bar to print info, you can use the following template\n",
        "    # How often to update info\n",
        "    if episode % 10 == 0:\n",
        "        # When to first update info\n",
        "        if episode > 99:\n",
        "            # List of strings containing info\n",
        "            episode_summary = [f\"{episode+1}:\"] + ['List of',  'further strings you might want in your progress bar']\n",
        "            # Set progress bar\n",
        "            progress_bar.set_description(\"\".join(episode_summary))"
      ]
    },
    {
      "cell_type": "code",
      "execution_count": null,
      "metadata": {
        "id": "4rDXENdEA5OW"
      },
      "outputs": [],
      "source": [
        " # Your code for showing the results can go here"
      ]
    },
    {
      "cell_type": "markdown",
      "metadata": {
        "id": "Ut6ld60kHdRt"
      },
      "source": [
        "## Task 7.3)\n",
        "\n",
        "In the previous task, you calculate the loss of the policy network as\n",
        "\n",
        "$$L_{actor} = \\sum_t - log(\\pi_{\\theta}[s_t,a_t])  \\delta_t$$\n",
        "\n",
        "with\n",
        "\n",
        "$$\\delta_t = R_t - V_{\\theta}(s_t).$$\n",
        "\n",
        "Give an intuitive explanation why minimizing this term leads to actions with a good outcome being more likely and actions with a bad outcome becoming less likely.\n",
        "\n",
        "<div style=\"text-align: right; font-weight:bold\"> 4 Points </div>"
      ]
    },
    {
      "cell_type": "markdown",
      "metadata": {
        "id": "4nrV6-_OSQgx"
      },
      "source": [
        "Please answer in this text cell."
      ]
    }
  ],
  "metadata": {
    "colab": {
      "provenance": [],
      "gpuType": "T4",
      "include_colab_link": true
    },
    "kernelspec": {
      "display_name": "Python 3",
      "name": "python3"
    },
    "language_info": {
      "codemirror_mode": {
        "name": "ipython",
        "version": 3
      },
      "file_extension": ".py",
      "mimetype": "text/x-python",
      "name": "python",
      "nbconvert_exporter": "python",
      "pygments_lexer": "ipython3",
      "version": "3.9.16"
    },
    "accelerator": "GPU"
  },
  "nbformat": 4,
  "nbformat_minor": 0
}